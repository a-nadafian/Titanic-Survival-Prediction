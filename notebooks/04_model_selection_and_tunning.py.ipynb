{
 "cells": [
  {
   "metadata": {
    "ExecuteTime": {
     "end_time": "2025-08-28T09:29:23.990236Z",
     "start_time": "2025-08-28T09:29:23.976418Z"
    }
   },
   "cell_type": "code",
   "source": [
    "import os\n",
    "import pandas as pd\n",
    "import numpy as np\n",
    "import warnings\n",
    "from sklearn.model_selection import StratifiedKFold, GridSearchCV\n",
    "from sklearn.preprocessing import StandardScaler\n",
    "from sklearn.ensemble import StackingClassifier, RandomForestClassifier\n",
    "from sklearn.linear_model import LogisticRegression\n",
    "from sklearn.svm import SVC\n",
    "from xgboost import XGBClassifier\n",
    "from catboost import CatBoostClassifier"
   ],
   "id": "7296cd46b38b459b",
   "outputs": [],
   "execution_count": 109
  },
  {
   "metadata": {
    "ExecuteTime": {
     "end_time": "2025-08-28T09:29:24.028174Z",
     "start_time": "2025-08-28T09:29:24.024350Z"
    }
   },
   "cell_type": "code",
   "source": [
    "# Suppress warnings for cleaner output\n",
    "warnings.filterwarnings('ignore')"
   ],
   "id": "13fbe41cd9b191cb",
   "outputs": [],
   "execution_count": 110
  },
  {
   "metadata": {},
   "cell_type": "markdown",
   "source": "## --- Load Fully Processed Data ---",
   "id": "e9242f11837551a4"
  },
  {
   "metadata": {
    "ExecuteTime": {
     "end_time": "2025-08-28T09:29:24.072822Z",
     "start_time": "2025-08-28T09:29:24.058048Z"
    }
   },
   "cell_type": "code",
   "source": [
    "data_path = os.path.join('..', 'data', 'processed', 'titanic_fully_processed.csv')\n",
    "# 1. Load your final, fully processed dataset\n",
    "try:\n",
    "    df = pd.read_csv(data_path)\n",
    "    print(\"Processed dataset loaded successfully.\")\n",
    "except FileNotFoundError as e:\n",
    "    print(f\"Error loading file: {e}\")\n",
    "    print(\"Please run the first two scripts to create 'titanic_processed.csv'.\")\n",
    "    exit()\n",
    "df.head()"
   ],
   "id": "cac112a67c7cce2a",
   "outputs": [
    {
     "name": "stdout",
     "output_type": "stream",
     "text": [
      "Processed dataset loaded successfully.\n"
     ]
    },
    {
     "data": {
      "text/plain": [
       "   PassengerId  Survived  Pclass  CabinAssigned  FamilySize  Age_Class  \\\n",
       "0            1       0.0       3              0           2       66.0   \n",
       "1            2       1.0       1              1           2       38.0   \n",
       "2            3       1.0       3              0           1       78.0   \n",
       "3            4       1.0       1              1           2       35.0   \n",
       "4            5       0.0       3              0           1      105.0   \n",
       "\n",
       "   Fare_per_Person  Sex_male  Embarked_Q  Embarked_S  ...  \\\n",
       "0          3.62500      True       False        True  ...   \n",
       "1         35.64165     False       False       False  ...   \n",
       "2          7.92500     False       False        True  ...   \n",
       "3         26.55000     False       False        True  ...   \n",
       "4          8.05000      True       False        True  ...   \n",
       "\n",
       "   Ticket_Prefix_SOTONOQ  Ticket_Prefix_SP  Ticket_Prefix_STONO  \\\n",
       "0                  False             False                False   \n",
       "1                  False             False                False   \n",
       "2                  False             False                False   \n",
       "3                  False             False                False   \n",
       "4                  False             False                False   \n",
       "\n",
       "   Ticket_Prefix_STONO2  Ticket_Prefix_STONOQ  Ticket_Prefix_SWPP  \\\n",
       "0                 False                 False               False   \n",
       "1                 False                 False               False   \n",
       "2                  True                 False               False   \n",
       "3                 False                 False               False   \n",
       "4                 False                 False               False   \n",
       "\n",
       "   Ticket_Prefix_WC  Ticket_Prefix_WEP  FamilySize_Group_Large  \\\n",
       "0             False              False                   False   \n",
       "1             False              False                   False   \n",
       "2             False              False                   False   \n",
       "3             False              False                   False   \n",
       "4             False              False                   False   \n",
       "\n",
       "   FamilySize_Group_Medium  \n",
       "0                     True  \n",
       "1                     True  \n",
       "2                    False  \n",
       "3                     True  \n",
       "4                    False  \n",
       "\n",
       "[5 rows x 61 columns]"
      ],
      "text/html": [
       "<div>\n",
       "<style scoped>\n",
       "    .dataframe tbody tr th:only-of-type {\n",
       "        vertical-align: middle;\n",
       "    }\n",
       "\n",
       "    .dataframe tbody tr th {\n",
       "        vertical-align: top;\n",
       "    }\n",
       "\n",
       "    .dataframe thead th {\n",
       "        text-align: right;\n",
       "    }\n",
       "</style>\n",
       "<table border=\"1\" class=\"dataframe\">\n",
       "  <thead>\n",
       "    <tr style=\"text-align: right;\">\n",
       "      <th></th>\n",
       "      <th>PassengerId</th>\n",
       "      <th>Survived</th>\n",
       "      <th>Pclass</th>\n",
       "      <th>CabinAssigned</th>\n",
       "      <th>FamilySize</th>\n",
       "      <th>Age_Class</th>\n",
       "      <th>Fare_per_Person</th>\n",
       "      <th>Sex_male</th>\n",
       "      <th>Embarked_Q</th>\n",
       "      <th>Embarked_S</th>\n",
       "      <th>...</th>\n",
       "      <th>Ticket_Prefix_SOTONOQ</th>\n",
       "      <th>Ticket_Prefix_SP</th>\n",
       "      <th>Ticket_Prefix_STONO</th>\n",
       "      <th>Ticket_Prefix_STONO2</th>\n",
       "      <th>Ticket_Prefix_STONOQ</th>\n",
       "      <th>Ticket_Prefix_SWPP</th>\n",
       "      <th>Ticket_Prefix_WC</th>\n",
       "      <th>Ticket_Prefix_WEP</th>\n",
       "      <th>FamilySize_Group_Large</th>\n",
       "      <th>FamilySize_Group_Medium</th>\n",
       "    </tr>\n",
       "  </thead>\n",
       "  <tbody>\n",
       "    <tr>\n",
       "      <th>0</th>\n",
       "      <td>1</td>\n",
       "      <td>0.0</td>\n",
       "      <td>3</td>\n",
       "      <td>0</td>\n",
       "      <td>2</td>\n",
       "      <td>66.0</td>\n",
       "      <td>3.62500</td>\n",
       "      <td>True</td>\n",
       "      <td>False</td>\n",
       "      <td>True</td>\n",
       "      <td>...</td>\n",
       "      <td>False</td>\n",
       "      <td>False</td>\n",
       "      <td>False</td>\n",
       "      <td>False</td>\n",
       "      <td>False</td>\n",
       "      <td>False</td>\n",
       "      <td>False</td>\n",
       "      <td>False</td>\n",
       "      <td>False</td>\n",
       "      <td>True</td>\n",
       "    </tr>\n",
       "    <tr>\n",
       "      <th>1</th>\n",
       "      <td>2</td>\n",
       "      <td>1.0</td>\n",
       "      <td>1</td>\n",
       "      <td>1</td>\n",
       "      <td>2</td>\n",
       "      <td>38.0</td>\n",
       "      <td>35.64165</td>\n",
       "      <td>False</td>\n",
       "      <td>False</td>\n",
       "      <td>False</td>\n",
       "      <td>...</td>\n",
       "      <td>False</td>\n",
       "      <td>False</td>\n",
       "      <td>False</td>\n",
       "      <td>False</td>\n",
       "      <td>False</td>\n",
       "      <td>False</td>\n",
       "      <td>False</td>\n",
       "      <td>False</td>\n",
       "      <td>False</td>\n",
       "      <td>True</td>\n",
       "    </tr>\n",
       "    <tr>\n",
       "      <th>2</th>\n",
       "      <td>3</td>\n",
       "      <td>1.0</td>\n",
       "      <td>3</td>\n",
       "      <td>0</td>\n",
       "      <td>1</td>\n",
       "      <td>78.0</td>\n",
       "      <td>7.92500</td>\n",
       "      <td>False</td>\n",
       "      <td>False</td>\n",
       "      <td>True</td>\n",
       "      <td>...</td>\n",
       "      <td>False</td>\n",
       "      <td>False</td>\n",
       "      <td>False</td>\n",
       "      <td>True</td>\n",
       "      <td>False</td>\n",
       "      <td>False</td>\n",
       "      <td>False</td>\n",
       "      <td>False</td>\n",
       "      <td>False</td>\n",
       "      <td>False</td>\n",
       "    </tr>\n",
       "    <tr>\n",
       "      <th>3</th>\n",
       "      <td>4</td>\n",
       "      <td>1.0</td>\n",
       "      <td>1</td>\n",
       "      <td>1</td>\n",
       "      <td>2</td>\n",
       "      <td>35.0</td>\n",
       "      <td>26.55000</td>\n",
       "      <td>False</td>\n",
       "      <td>False</td>\n",
       "      <td>True</td>\n",
       "      <td>...</td>\n",
       "      <td>False</td>\n",
       "      <td>False</td>\n",
       "      <td>False</td>\n",
       "      <td>False</td>\n",
       "      <td>False</td>\n",
       "      <td>False</td>\n",
       "      <td>False</td>\n",
       "      <td>False</td>\n",
       "      <td>False</td>\n",
       "      <td>True</td>\n",
       "    </tr>\n",
       "    <tr>\n",
       "      <th>4</th>\n",
       "      <td>5</td>\n",
       "      <td>0.0</td>\n",
       "      <td>3</td>\n",
       "      <td>0</td>\n",
       "      <td>1</td>\n",
       "      <td>105.0</td>\n",
       "      <td>8.05000</td>\n",
       "      <td>True</td>\n",
       "      <td>False</td>\n",
       "      <td>True</td>\n",
       "      <td>...</td>\n",
       "      <td>False</td>\n",
       "      <td>False</td>\n",
       "      <td>False</td>\n",
       "      <td>False</td>\n",
       "      <td>False</td>\n",
       "      <td>False</td>\n",
       "      <td>False</td>\n",
       "      <td>False</td>\n",
       "      <td>False</td>\n",
       "      <td>False</td>\n",
       "    </tr>\n",
       "  </tbody>\n",
       "</table>\n",
       "<p>5 rows × 61 columns</p>\n",
       "</div>"
      ]
     },
     "execution_count": 111,
     "metadata": {},
     "output_type": "execute_result"
    }
   ],
   "execution_count": 111
  },
  {
   "metadata": {},
   "cell_type": "markdown",
   "source": "## Final Data Preparation for Modeling ---",
   "id": "9bc407a3f1e4edf8"
  },
  {
   "metadata": {
    "ExecuteTime": {
     "end_time": "2025-08-28T09:29:24.141242Z",
     "start_time": "2025-08-28T09:29:24.134080Z"
    }
   },
   "cell_type": "code",
   "source": [
    "# Separate the data back into train and test sets\n",
    "test_df = df[df['Survived'].isna()].copy()\n",
    "train_df = df[df['Survived'].notna()].copy()\n",
    "train_df['Survived'] = train_df['Survived'].astype(int)\n",
    "\n",
    "# Separate PassengerIds for submission\n",
    "test_passenger_ids = test_df['PassengerId']\n",
    "\n",
    "# Final features (X) and target (y)\n",
    "X = train_df.drop(['Survived', 'PassengerId'], axis=1)\n",
    "y = train_df['Survived']\n",
    "X_test = test_df.drop(['Survived', 'PassengerId'], axis=1)\n",
    "\n",
    "\n",
    "print(f\"shape of train_df is: {train_df.shape}\")\n",
    "print(f\"shape of test_df is: {test_df.shape}\")\n"
   ],
   "id": "65b82610d77ffb45",
   "outputs": [
    {
     "name": "stdout",
     "output_type": "stream",
     "text": [
      "shape of train_df is: (891, 61)\n",
      "shape of test_df is: (418, 61)\n"
     ]
    }
   ],
   "execution_count": 112
  },
  {
   "metadata": {
    "ExecuteTime": {
     "end_time": "2025-08-28T09:29:24.218982Z",
     "start_time": "2025-08-28T09:29:24.214462Z"
    }
   },
   "cell_type": "code",
   "source": [
    "# Align columns - crucial for when test set is missing a category from train set\n",
    "train_cols = X.columns\n",
    "test_cols = X_test.columns\n",
    "missing_in_test = set(train_cols) - set(test_cols)\n",
    "for c in missing_in_test:\n",
    "    X_test[c] = 0\n",
    "missing_in_train = set(test_cols) - set(train_cols)\n",
    "for c in missing_in_train:\n",
    "    X[c] = 0\n",
    "X_test = X_test[train_cols] # Ensure order is the same"
   ],
   "id": "f7f1a6693a9fae48",
   "outputs": [],
   "execution_count": 113
  },
  {
   "metadata": {
    "ExecuteTime": {
     "end_time": "2025-08-28T09:29:24.307196Z",
     "start_time": "2025-08-28T09:29:24.301057Z"
    }
   },
   "cell_type": "code",
   "source": [
    "# Scale numerical features\n",
    "scaler = StandardScaler()\n",
    "X = scaler.fit_transform(X)\n",
    "X_test = scaler.transform(X_test)\n",
    "print(\"Data prepared and scaled for modeling.\")\n"
   ],
   "id": "1993ddf97b6b7207",
   "outputs": [
    {
     "name": "stdout",
     "output_type": "stream",
     "text": [
      "Data prepared and scaled for modeling.\n"
     ]
    }
   ],
   "execution_count": 114
  },
  {
   "metadata": {},
   "cell_type": "markdown",
   "source": "## Stacking Ensemble Modeling ---",
   "id": "574a7d0c5841ce50"
  },
  {
   "metadata": {
    "ExecuteTime": {
     "end_time": "2025-08-28T09:29:24.331217Z",
     "start_time": "2025-08-28T09:29:24.326741Z"
    }
   },
   "cell_type": "code",
   "source": [
    "# Define the Level 0 Base Models\n",
    "base_models = [\n",
    "    ('RandomForest', RandomForestClassifier(n_estimators=100, max_depth=5, random_state=42)),\n",
    "    ('CatBoost', CatBoostClassifier(iterations=500, verbose=0, random_state=42)),\n",
    "    ('XGBoost', XGBClassifier(n_estimators=200, max_depth=3, use_label_encoder=False, eval_metric='logloss', random_state=42)),\n",
    "    ('SVC', SVC(probability=True, random_state=42))\n",
    "]"
   ],
   "id": "21c409bce7cac0e5",
   "outputs": [],
   "execution_count": 115
  },
  {
   "metadata": {
    "ExecuteTime": {
     "end_time": "2025-08-28T09:29:24.394210Z",
     "start_time": "2025-08-28T09:29:24.390891Z"
    }
   },
   "cell_type": "code",
   "source": [
    "# Define the Level 1 Meta-Model\n",
    "meta_model = LogisticRegression(max_iter=1000)\n",
    "\n",
    "# Create the Stacking Classifier\n",
    "stacking_model = StackingClassifier(\n",
    "    estimators=base_models,\n",
    "    final_estimator=meta_model,\n",
    "    cv=5\n",
    ")"
   ],
   "id": "7bd24b2b62c167e2",
   "outputs": [],
   "execution_count": 116
  },
  {
   "metadata": {
    "ExecuteTime": {
     "end_time": "2025-08-28T09:29:54.627431Z",
     "start_time": "2025-08-28T09:29:54.616668Z"
    }
   },
   "cell_type": "code",
   "source": [
    "# Define a hyperparameter grid for the Stacking model\n",
    "params = {\n",
    "    'RandomForest__n_estimators': [100, 200],\n",
    "    'CatBoost__learning_rate': [0.05, 0.1],\n",
    "    'SVC__C': [0.1, 1.0],\n",
    "    'final_estimator__C': [0.1, 1.0, 10.0]\n",
    "}\n",
    "\n",
    "# Use GridSearchCV to find the best parameters for the entire stack\n",
    "cv_method = StratifiedKFold(n_splits=5, shuffle=True, random_state=42)\n",
    "grid_search = GridSearchCV(\n",
    "    estimator=stacking_model,\n",
    "    param_grid=params,\n",
    "    cv=cv_method,\n",
    "    scoring='accuracy',\n",
    "    n_jobs=-1,\n",
    "    verbose=1\n",
    ")"
   ],
   "id": "a43dbcd2140ece8b",
   "outputs": [],
   "execution_count": 117
  },
  {
   "metadata": {
    "ExecuteTime": {
     "end_time": "2025-08-28T09:31:29.477611Z",
     "start_time": "2025-08-28T09:30:04.747356Z"
    }
   },
   "cell_type": "code",
   "source": [
    "print(\"Starting GridSearchCV for the StackingClassifier...\")\n",
    "grid_search.fit(X, y)\n",
    "\n",
    "print(\"\\n--- Tuning Complete ---\")\n",
    "print(f\"Best Mean CV Accuracy: {grid_search.best_score_:.4f}\")\n",
    "print(f\"Best Parameters: {grid_search.best_params_}\")"
   ],
   "id": "ae797bbd7aebeb2",
   "outputs": [
    {
     "name": "stdout",
     "output_type": "stream",
     "text": [
      "Starting GridSearchCV for the StackingClassifier...\n",
      "Fitting 5 folds for each of 24 candidates, totalling 120 fits\n",
      "\n",
      "--- Tuning Complete ---\n",
      "Best Mean CV Accuracy: 0.8485\n",
      "Best Parameters: {'CatBoost__learning_rate': 0.1, 'RandomForest__n_estimators': 100, 'SVC__C': 1.0, 'final_estimator__C': 0.1}\n"
     ]
    }
   ],
   "execution_count": 118
  },
  {
   "metadata": {},
   "cell_type": "markdown",
   "source": "## --- Final Prediction and Submission ---",
   "id": "bbfa73948fd4e116"
  },
  {
   "metadata": {
    "ExecuteTime": {
     "end_time": "2025-08-28T09:31:58.748610Z",
     "start_time": "2025-08-28T09:31:58.717326Z"
    }
   },
   "cell_type": "code",
   "source": [
    "# The best estimator from GridSearchCV is already trained on the full data\n",
    "final_model = grid_search.best_estimator_\n",
    "\n",
    "# Make predictions on the final test set\n",
    "final_predictions = final_model.predict(X_test)\n",
    "\n",
    "# Create the submission DataFrame\n",
    "submission_df = pd.DataFrame({\n",
    "    'PassengerId': test_passenger_ids,\n",
    "    'Survived': final_predictions\n",
    "})"
   ],
   "id": "e54cf6bff84e93e9",
   "outputs": [],
   "execution_count": 119
  },
  {
   "metadata": {
    "ExecuteTime": {
     "end_time": "2025-08-28T09:32:20.689107Z",
     "start_time": "2025-08-28T09:32:20.674151Z"
    }
   },
   "cell_type": "code",
   "source": [
    "# Save the submission file\n",
    "submission_df.to_csv('submission_advanced.csv', index=False)\n",
    "\n",
    "print(\"\\nSubmission file 'submission_advanced.csv' created successfully!\")\n",
    "print(\"Sample of submission file:\")\n",
    "print(submission_df.head())"
   ],
   "id": "40d78ac2950d5f6b",
   "outputs": [
    {
     "name": "stdout",
     "output_type": "stream",
     "text": [
      "\n",
      "Submission file 'submission_advanced.csv' created successfully!\n",
      "Sample of submission file:\n",
      "     PassengerId  Survived\n",
      "891          892         0\n",
      "892          893         0\n",
      "893          894         0\n",
      "894          895         0\n",
      "895          896         1\n"
     ]
    }
   ],
   "execution_count": 120
  },
  {
   "metadata": {},
   "cell_type": "code",
   "outputs": [],
   "execution_count": null,
   "source": "",
   "id": "740cdafc13e0c0db"
  }
 ],
 "metadata": {
  "kernelspec": {
   "display_name": "Python 3",
   "language": "python",
   "name": "python3"
  },
  "language_info": {
   "codemirror_mode": {
    "name": "ipython",
    "version": 2
   },
   "file_extension": ".py",
   "mimetype": "text/x-python",
   "name": "python",
   "nbconvert_exporter": "python",
   "pygments_lexer": "ipython2",
   "version": "2.7.6"
  }
 },
 "nbformat": 4,
 "nbformat_minor": 5
}
