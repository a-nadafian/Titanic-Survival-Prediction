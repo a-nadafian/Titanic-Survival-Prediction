{
 "cells": [
  {
   "metadata": {
    "ExecuteTime": {
     "end_time": "2025-08-27T09:10:33.325183Z",
     "start_time": "2025-08-27T09:10:32.781949Z"
    }
   },
   "cell_type": "code",
   "source": [
    "import pandas as pd\n",
    "import os\n",
    "import re"
   ],
   "id": "4ee4f0675cf36535",
   "outputs": [],
   "execution_count": 1
  },
  {
   "metadata": {
    "ExecuteTime": {
     "end_time": "2025-08-27T09:10:33.369941Z",
     "start_time": "2025-08-27T09:10:33.332893Z"
    }
   },
   "cell_type": "code",
   "source": [
    "# initialize input and output directories\n",
    "input_dir = os.path.join(\"..\", \"data\", \"raw\")\n",
    "output_dir = os.path.join(\"..\", \"data\", \"processed\")\n",
    "\n",
    "# read csv files\n",
    "train_df = pd.read_csv(os.path.join(input_dir, \"train.csv\"))\n",
    "test_df = pd.read_csv(os.path.join(input_dir, \"test.csv\"))\n"
   ],
   "id": "627915530c2ba15c",
   "outputs": [],
   "execution_count": 2
  },
  {
   "metadata": {},
   "cell_type": "markdown",
   "source": "A common and highly effective workflow involves concatenating the training and testing sets into a single DataFrame early in the process (after separating and storing the 'Survived' target variable and passenger IDs). This practice ensures that all subsequent data cleaning, imputation, and feature engineering steps are applied uniformly across both datasets. This consistency is critical for preventing data processing discrepancies that can lead to model errors or degraded performance when making predictions on the test set.  ",
   "id": "992bd8c5ef2f96b0"
  },
  {
   "metadata": {
    "ExecuteTime": {
     "end_time": "2025-08-27T09:11:14.236577Z",
     "start_time": "2025-08-27T09:11:14.211271Z"
    }
   },
   "cell_type": "code",
   "source": [
    "# Combine train and test sets for consistent preprocessing\n",
    "# The 'Survived' column from the training set is preserved (will be NaN for test rows)\n",
    "df = pd.concat([train_df, test_df], ignore_index=True, sort=False)\n",
    "print(f\"Combined dataset created with shape: {df.shape}\")\n",
    "df.head()"
   ],
   "id": "ee2078ec7d8c32cc",
   "outputs": [
    {
     "name": "stdout",
     "output_type": "stream",
     "text": [
      "Combined dataset created with shape: (1309, 12)\n"
     ]
    },
    {
     "data": {
      "text/plain": [
       "   PassengerId  Survived  Pclass  \\\n",
       "0            1       0.0       3   \n",
       "1            2       1.0       1   \n",
       "2            3       1.0       3   \n",
       "3            4       1.0       1   \n",
       "4            5       0.0       3   \n",
       "\n",
       "                                                Name     Sex   Age  SibSp  \\\n",
       "0                            Braund, Mr. Owen Harris    male  22.0      1   \n",
       "1  Cumings, Mrs. John Bradley (Florence Briggs Th...  female  38.0      1   \n",
       "2                             Heikkinen, Miss. Laina  female  26.0      0   \n",
       "3       Futrelle, Mrs. Jacques Heath (Lily May Peel)  female  35.0      1   \n",
       "4                           Allen, Mr. William Henry    male  35.0      0   \n",
       "\n",
       "   Parch            Ticket     Fare Cabin Embarked  \n",
       "0      0         A/5 21171   7.2500   NaN        S  \n",
       "1      0          PC 17599  71.2833   C85        C  \n",
       "2      0  STON/O2. 3101282   7.9250   NaN        S  \n",
       "3      0            113803  53.1000  C123        S  \n",
       "4      0            373450   8.0500   NaN        S  "
      ],
      "text/html": [
       "<div>\n",
       "<style scoped>\n",
       "    .dataframe tbody tr th:only-of-type {\n",
       "        vertical-align: middle;\n",
       "    }\n",
       "\n",
       "    .dataframe tbody tr th {\n",
       "        vertical-align: top;\n",
       "    }\n",
       "\n",
       "    .dataframe thead th {\n",
       "        text-align: right;\n",
       "    }\n",
       "</style>\n",
       "<table border=\"1\" class=\"dataframe\">\n",
       "  <thead>\n",
       "    <tr style=\"text-align: right;\">\n",
       "      <th></th>\n",
       "      <th>PassengerId</th>\n",
       "      <th>Survived</th>\n",
       "      <th>Pclass</th>\n",
       "      <th>Name</th>\n",
       "      <th>Sex</th>\n",
       "      <th>Age</th>\n",
       "      <th>SibSp</th>\n",
       "      <th>Parch</th>\n",
       "      <th>Ticket</th>\n",
       "      <th>Fare</th>\n",
       "      <th>Cabin</th>\n",
       "      <th>Embarked</th>\n",
       "    </tr>\n",
       "  </thead>\n",
       "  <tbody>\n",
       "    <tr>\n",
       "      <th>0</th>\n",
       "      <td>1</td>\n",
       "      <td>0.0</td>\n",
       "      <td>3</td>\n",
       "      <td>Braund, Mr. Owen Harris</td>\n",
       "      <td>male</td>\n",
       "      <td>22.0</td>\n",
       "      <td>1</td>\n",
       "      <td>0</td>\n",
       "      <td>A/5 21171</td>\n",
       "      <td>7.2500</td>\n",
       "      <td>NaN</td>\n",
       "      <td>S</td>\n",
       "    </tr>\n",
       "    <tr>\n",
       "      <th>1</th>\n",
       "      <td>2</td>\n",
       "      <td>1.0</td>\n",
       "      <td>1</td>\n",
       "      <td>Cumings, Mrs. John Bradley (Florence Briggs Th...</td>\n",
       "      <td>female</td>\n",
       "      <td>38.0</td>\n",
       "      <td>1</td>\n",
       "      <td>0</td>\n",
       "      <td>PC 17599</td>\n",
       "      <td>71.2833</td>\n",
       "      <td>C85</td>\n",
       "      <td>C</td>\n",
       "    </tr>\n",
       "    <tr>\n",
       "      <th>2</th>\n",
       "      <td>3</td>\n",
       "      <td>1.0</td>\n",
       "      <td>3</td>\n",
       "      <td>Heikkinen, Miss. Laina</td>\n",
       "      <td>female</td>\n",
       "      <td>26.0</td>\n",
       "      <td>0</td>\n",
       "      <td>0</td>\n",
       "      <td>STON/O2. 3101282</td>\n",
       "      <td>7.9250</td>\n",
       "      <td>NaN</td>\n",
       "      <td>S</td>\n",
       "    </tr>\n",
       "    <tr>\n",
       "      <th>3</th>\n",
       "      <td>4</td>\n",
       "      <td>1.0</td>\n",
       "      <td>1</td>\n",
       "      <td>Futrelle, Mrs. Jacques Heath (Lily May Peel)</td>\n",
       "      <td>female</td>\n",
       "      <td>35.0</td>\n",
       "      <td>1</td>\n",
       "      <td>0</td>\n",
       "      <td>113803</td>\n",
       "      <td>53.1000</td>\n",
       "      <td>C123</td>\n",
       "      <td>S</td>\n",
       "    </tr>\n",
       "    <tr>\n",
       "      <th>4</th>\n",
       "      <td>5</td>\n",
       "      <td>0.0</td>\n",
       "      <td>3</td>\n",
       "      <td>Allen, Mr. William Henry</td>\n",
       "      <td>male</td>\n",
       "      <td>35.0</td>\n",
       "      <td>0</td>\n",
       "      <td>0</td>\n",
       "      <td>373450</td>\n",
       "      <td>8.0500</td>\n",
       "      <td>NaN</td>\n",
       "      <td>S</td>\n",
       "    </tr>\n",
       "  </tbody>\n",
       "</table>\n",
       "</div>"
      ]
     },
     "execution_count": 3,
     "metadata": {},
     "output_type": "execute_result"
    }
   ],
   "execution_count": 3
  },
  {
   "metadata": {
    "ExecuteTime": {
     "end_time": "2025-08-27T09:11:19.591223Z",
     "start_time": "2025-08-27T09:11:19.575306Z"
    }
   },
   "cell_type": "code",
   "source": "df.info()",
   "id": "f267696fdc91341d",
   "outputs": [
    {
     "name": "stdout",
     "output_type": "stream",
     "text": [
      "<class 'pandas.core.frame.DataFrame'>\n",
      "RangeIndex: 1309 entries, 0 to 1308\n",
      "Data columns (total 12 columns):\n",
      " #   Column       Non-Null Count  Dtype  \n",
      "---  ------       --------------  -----  \n",
      " 0   PassengerId  1309 non-null   int64  \n",
      " 1   Survived     891 non-null    float64\n",
      " 2   Pclass       1309 non-null   int64  \n",
      " 3   Name         1309 non-null   object \n",
      " 4   Sex          1309 non-null   object \n",
      " 5   Age          1046 non-null   float64\n",
      " 6   SibSp        1309 non-null   int64  \n",
      " 7   Parch        1309 non-null   int64  \n",
      " 8   Ticket       1309 non-null   object \n",
      " 9   Fare         1308 non-null   float64\n",
      " 10  Cabin        295 non-null    object \n",
      " 11  Embarked     1307 non-null   object \n",
      "dtypes: float64(3), int64(4), object(5)\n",
      "memory usage: 122.8+ KB\n"
     ]
    }
   ],
   "execution_count": 4
  },
  {
   "metadata": {
    "ExecuteTime": {
     "end_time": "2025-08-27T09:12:23.548236Z",
     "start_time": "2025-08-27T09:12:23.537544Z"
    }
   },
   "cell_type": "code",
   "source": "df.isnull().sum()",
   "id": "182d0455285f618",
   "outputs": [
    {
     "data": {
      "text/plain": [
       "PassengerId       0\n",
       "Survived        418\n",
       "Pclass            0\n",
       "Name              0\n",
       "Sex               0\n",
       "Age             263\n",
       "SibSp             0\n",
       "Parch             0\n",
       "Ticket            0\n",
       "Fare              1\n",
       "Cabin          1014\n",
       "Embarked          2\n",
       "dtype: int64"
      ]
     },
     "execution_count": 5,
     "metadata": {},
     "output_type": "execute_result"
    }
   ],
   "execution_count": 5
  },
  {
   "metadata": {
    "ExecuteTime": {
     "end_time": "2025-08-27T09:12:31.705211Z",
     "start_time": "2025-08-27T09:12:31.685704Z"
    }
   },
   "cell_type": "code",
   "source": "df.describe()",
   "id": "8b4839fe6af7685b",
   "outputs": [
    {
     "data": {
      "text/plain": [
       "       PassengerId    Survived       Pclass          Age        SibSp  \\\n",
       "count  1309.000000  891.000000  1309.000000  1046.000000  1309.000000   \n",
       "mean    655.000000    0.383838     2.294882    29.881138     0.498854   \n",
       "std     378.020061    0.486592     0.837836    14.413493     1.041658   \n",
       "min       1.000000    0.000000     1.000000     0.170000     0.000000   \n",
       "25%     328.000000    0.000000     2.000000    21.000000     0.000000   \n",
       "50%     655.000000    0.000000     3.000000    28.000000     0.000000   \n",
       "75%     982.000000    1.000000     3.000000    39.000000     1.000000   \n",
       "max    1309.000000    1.000000     3.000000    80.000000     8.000000   \n",
       "\n",
       "             Parch         Fare  \n",
       "count  1309.000000  1308.000000  \n",
       "mean      0.385027    33.295479  \n",
       "std       0.865560    51.758668  \n",
       "min       0.000000     0.000000  \n",
       "25%       0.000000     7.895800  \n",
       "50%       0.000000    14.454200  \n",
       "75%       0.000000    31.275000  \n",
       "max       9.000000   512.329200  "
      ],
      "text/html": [
       "<div>\n",
       "<style scoped>\n",
       "    .dataframe tbody tr th:only-of-type {\n",
       "        vertical-align: middle;\n",
       "    }\n",
       "\n",
       "    .dataframe tbody tr th {\n",
       "        vertical-align: top;\n",
       "    }\n",
       "\n",
       "    .dataframe thead th {\n",
       "        text-align: right;\n",
       "    }\n",
       "</style>\n",
       "<table border=\"1\" class=\"dataframe\">\n",
       "  <thead>\n",
       "    <tr style=\"text-align: right;\">\n",
       "      <th></th>\n",
       "      <th>PassengerId</th>\n",
       "      <th>Survived</th>\n",
       "      <th>Pclass</th>\n",
       "      <th>Age</th>\n",
       "      <th>SibSp</th>\n",
       "      <th>Parch</th>\n",
       "      <th>Fare</th>\n",
       "    </tr>\n",
       "  </thead>\n",
       "  <tbody>\n",
       "    <tr>\n",
       "      <th>count</th>\n",
       "      <td>1309.000000</td>\n",
       "      <td>891.000000</td>\n",
       "      <td>1309.000000</td>\n",
       "      <td>1046.000000</td>\n",
       "      <td>1309.000000</td>\n",
       "      <td>1309.000000</td>\n",
       "      <td>1308.000000</td>\n",
       "    </tr>\n",
       "    <tr>\n",
       "      <th>mean</th>\n",
       "      <td>655.000000</td>\n",
       "      <td>0.383838</td>\n",
       "      <td>2.294882</td>\n",
       "      <td>29.881138</td>\n",
       "      <td>0.498854</td>\n",
       "      <td>0.385027</td>\n",
       "      <td>33.295479</td>\n",
       "    </tr>\n",
       "    <tr>\n",
       "      <th>std</th>\n",
       "      <td>378.020061</td>\n",
       "      <td>0.486592</td>\n",
       "      <td>0.837836</td>\n",
       "      <td>14.413493</td>\n",
       "      <td>1.041658</td>\n",
       "      <td>0.865560</td>\n",
       "      <td>51.758668</td>\n",
       "    </tr>\n",
       "    <tr>\n",
       "      <th>min</th>\n",
       "      <td>1.000000</td>\n",
       "      <td>0.000000</td>\n",
       "      <td>1.000000</td>\n",
       "      <td>0.170000</td>\n",
       "      <td>0.000000</td>\n",
       "      <td>0.000000</td>\n",
       "      <td>0.000000</td>\n",
       "    </tr>\n",
       "    <tr>\n",
       "      <th>25%</th>\n",
       "      <td>328.000000</td>\n",
       "      <td>0.000000</td>\n",
       "      <td>2.000000</td>\n",
       "      <td>21.000000</td>\n",
       "      <td>0.000000</td>\n",
       "      <td>0.000000</td>\n",
       "      <td>7.895800</td>\n",
       "    </tr>\n",
       "    <tr>\n",
       "      <th>50%</th>\n",
       "      <td>655.000000</td>\n",
       "      <td>0.000000</td>\n",
       "      <td>3.000000</td>\n",
       "      <td>28.000000</td>\n",
       "      <td>0.000000</td>\n",
       "      <td>0.000000</td>\n",
       "      <td>14.454200</td>\n",
       "    </tr>\n",
       "    <tr>\n",
       "      <th>75%</th>\n",
       "      <td>982.000000</td>\n",
       "      <td>1.000000</td>\n",
       "      <td>3.000000</td>\n",
       "      <td>39.000000</td>\n",
       "      <td>1.000000</td>\n",
       "      <td>0.000000</td>\n",
       "      <td>31.275000</td>\n",
       "    </tr>\n",
       "    <tr>\n",
       "      <th>max</th>\n",
       "      <td>1309.000000</td>\n",
       "      <td>1.000000</td>\n",
       "      <td>3.000000</td>\n",
       "      <td>80.000000</td>\n",
       "      <td>8.000000</td>\n",
       "      <td>9.000000</td>\n",
       "      <td>512.329200</td>\n",
       "    </tr>\n",
       "  </tbody>\n",
       "</table>\n",
       "</div>"
      ]
     },
     "execution_count": 6,
     "metadata": {},
     "output_type": "execute_result"
    }
   ],
   "execution_count": 6
  },
  {
   "metadata": {},
   "cell_type": "markdown",
   "source": "# --- 1. Handling 'Embarked' ---",
   "id": "9fbac8ae72816e50"
  },
  {
   "metadata": {
    "ExecuteTime": {
     "end_time": "2025-08-27T09:12:35.929027Z",
     "start_time": "2025-08-27T09:12:35.916802Z"
    }
   },
   "cell_type": "code",
   "source": [
    "# Impute with the mode ('S')\n",
    "embarked_mode = train_df['Embarked'].mode()[0]\n",
    "df['Embarked'] = df['Embarked'].fillna(embarked_mode)\n",
    "print(f\"Missing 'Embarked' values imputed with mode: '{embarked_mode}'\")"
   ],
   "id": "491f6253099d662c",
   "outputs": [
    {
     "name": "stdout",
     "output_type": "stream",
     "text": [
      "Missing 'Embarked' values imputed with mode: 'S'\n"
     ]
    }
   ],
   "execution_count": 7
  },
  {
   "metadata": {},
   "cell_type": "markdown",
   "source": "# --- 2. Handling 'Fare' ---",
   "id": "6fda729bcfecbc79"
  },
  {
   "metadata": {
    "ExecuteTime": {
     "end_time": "2025-08-27T09:12:38.892689Z",
     "start_time": "2025-08-27T09:12:38.884191Z"
    }
   },
   "cell_type": "code",
   "source": [
    "# Check if there are any missing 'Fare' values before imputing\n",
    "if df['Fare'].isnull().sum() > 0:\n",
    "    # Find the Pclass for the passenger with the missing fare\n",
    "    pclass_for_missing_fare = df[df['Fare'].isnull()]['Pclass'].values[0]\n",
    "    # Calculate the median fare for that Pclass\n",
    "    median_fare_for_pclass = df[df['Pclass'] == pclass_for_missing_fare]['Fare'].median()\n",
    "    # Fill the missing value and reassign to avoid SettingWithCopyWarning\n",
    "    df['Fare'] = df['Fare'].fillna(median_fare_for_pclass)\n",
    "    print(f\"Missing 'Fare' value imputed with median fare for Pclass {pclass_for_missing_fare}: {median_fare_for_pclass:.4f}\")\n",
    "else:\n",
    "    print(\"No missing 'Fare' values found.\")"
   ],
   "id": "d3ef8446bbb1709f",
   "outputs": [
    {
     "name": "stdout",
     "output_type": "stream",
     "text": [
      "Missing 'Fare' value imputed with median fare for Pclass 3: 8.0500\n"
     ]
    }
   ],
   "execution_count": 8
  },
  {
   "metadata": {},
   "cell_type": "markdown",
   "source": "# --- 3. Handling 'Cabin' (Feature Engineering) ---",
   "id": "62294488064e30ac"
  },
  {
   "metadata": {
    "ExecuteTime": {
     "end_time": "2025-08-27T09:12:41.398720Z",
     "start_time": "2025-08-27T09:12:41.388815Z"
    }
   },
   "cell_type": "code",
   "source": [
    "# Create 'CabinAssigned' feature\n",
    "df['CabinAssigned'] = df['Cabin'].notna().astype(int)\n",
    "print(\"Engineered feature 'CabinAssigned' (1 for cabin present, 0 for missing).\")\n",
    "\n",
    "# Extract Deck from Cabin number\n",
    "# We fill NaN with 'U' for 'Unknown' before extracting the first letter.\n",
    "df['Deck'] = df['Cabin'].fillna('U').apply(lambda x: x[0])\n",
    "print(\"Engineered feature 'Deck' by extracting the first letter of the cabin number.\")\n",
    "\n",
    "# Drop the original 'Cabin' column as it's no longer needed\n",
    "df.drop('Cabin', axis=1, inplace=True)\n",
    "print(\"Original 'Cabin' column dropped.\")"
   ],
   "id": "7850f17b788495b",
   "outputs": [
    {
     "name": "stdout",
     "output_type": "stream",
     "text": [
      "Engineered feature 'CabinAssigned' (1 for cabin present, 0 for missing).\n",
      "Engineered feature 'Deck' by extracting the first letter of the cabin number.\n",
      "Original 'Cabin' column dropped.\n"
     ]
    }
   ],
   "execution_count": 9
  },
  {
   "metadata": {},
   "cell_type": "markdown",
   "source": "## --- 4. Handling 'Age' (Advanced Title-Based Imputation) ---",
   "id": "5b6bff985d14ddf3"
  },
  {
   "metadata": {
    "ExecuteTime": {
     "end_time": "2025-08-27T09:12:44.066019Z",
     "start_time": "2025-08-27T09:12:44.053161Z"
    }
   },
   "cell_type": "code",
   "source": [
    "# Step 4a: Extract Titles\n",
    "df['Title'] = df['Name'].apply(lambda name: re.search(r' ([A-Za-z]+)\\.', name).group(1))\n",
    "print(\"Extracted titles from 'Name' column.\")"
   ],
   "id": "47d25f0cbc208060",
   "outputs": [
    {
     "name": "stdout",
     "output_type": "stream",
     "text": [
      "Extracted titles from 'Name' column.\n"
     ]
    }
   ],
   "execution_count": 10
  },
  {
   "metadata": {
    "ExecuteTime": {
     "end_time": "2025-08-27T09:12:48.487117Z",
     "start_time": "2025-08-27T09:12:48.475312Z"
    }
   },
   "cell_type": "code",
   "source": [
    "# Step 4b: Consolidate Titles\n",
    "# Mapping titles to broader categories\n",
    "title_mapping = {\n",
    "    'Mlle': 'Miss',\n",
    "    'Ms': 'Miss',\n",
    "    'Mme': 'Mrs',\n",
    "    'Capt': 'Official',\n",
    "    'Col': 'Official',\n",
    "    'Major': 'Official',\n",
    "    'Dr': 'Official',\n",
    "    'Rev': 'Official',\n",
    "    'Jonkheer': 'Rare',\n",
    "    'Don': 'Rare',\n",
    "    'Dona': 'Rare',\n",
    "    'Sir': 'Rare',\n",
    "    'Lady': 'Rare',\n",
    "    'Countess': 'Rare'\n",
    "}\n",
    "df['Title'] = df['Title'].replace(title_mapping)\n",
    "print(\"Consolidated rare and synonymous titles.\")"
   ],
   "id": "7b310a730df9ddff",
   "outputs": [
    {
     "name": "stdout",
     "output_type": "stream",
     "text": [
      "Consolidated rare and synonymous titles.\n"
     ]
    }
   ],
   "execution_count": 11
  },
  {
   "metadata": {
    "ExecuteTime": {
     "end_time": "2025-08-27T09:12:51.545076Z",
     "start_time": "2025-08-27T09:12:51.533611Z"
    }
   },
   "cell_type": "code",
   "source": [
    "# Step 4c: Calculate Median Age per Title Group\n",
    "median_ages = df.groupby('Title')['Age'].median()\n",
    "print(\"\\nMedian Age per Title Group:\")\n",
    "print(median_ages)"
   ],
   "id": "72a718d7b9b86a8",
   "outputs": [
    {
     "name": "stdout",
     "output_type": "stream",
     "text": [
      "\n",
      "Median Age per Title Group:\n",
      "Title\n",
      "Master       4.0\n",
      "Miss        22.0\n",
      "Mr          29.0\n",
      "Mrs         35.0\n",
      "Official    49.5\n",
      "Rare        39.5\n",
      "Name: Age, dtype: float64\n"
     ]
    }
   ],
   "execution_count": 12
  },
  {
   "metadata": {
    "ExecuteTime": {
     "end_time": "2025-08-27T09:12:55.020642Z",
     "start_time": "2025-08-27T09:12:55.002780Z"
    }
   },
   "cell_type": "code",
   "source": [
    "# Step 4d: Impute Missing Age Values\n",
    "# Use a loop to fill missing ages based on the calculated medians for each title\n",
    "# Note: Using .loc for assignment here is the correct way to avoid SettingWithCopyWarning\n",
    "for title in median_ages.index:\n",
    "    df.loc[(df['Age'].isnull()) & (df['Title'] == title), 'Age'] = median_ages[title]\n",
    "\n",
    "print(\"\\nMissing 'Age' values imputed based on title-specific medians.\")"
   ],
   "id": "cdf070d80f346be0",
   "outputs": [
    {
     "name": "stdout",
     "output_type": "stream",
     "text": [
      "\n",
      "Missing 'Age' values imputed based on title-specific medians.\n"
     ]
    }
   ],
   "execution_count": 13
  },
  {
   "metadata": {
    "ExecuteTime": {
     "end_time": "2025-08-27T09:13:10.134755Z",
     "start_time": "2025-08-27T09:13:10.116820Z"
    }
   },
   "cell_type": "code",
   "source": [
    "# --- Final Check ---\n",
    "print(\"\\n--- Preprocessing Complete ---\")\n",
    "print(\"Verifying no more missing values in key columns:\")\n",
    "print(df[['Age', 'Fare', 'Embarked']].isnull().sum())\n",
    "\n",
    "# Display the first few rows with the new features\n",
    "print(\"\\nSample of the preprocessed data:\")\n",
    "df.head()"
   ],
   "id": "3b22eb485db68973",
   "outputs": [
    {
     "name": "stdout",
     "output_type": "stream",
     "text": [
      "\n",
      "--- Preprocessing Complete ---\n",
      "Verifying no more missing values in key columns:\n",
      "Age         0\n",
      "Fare        0\n",
      "Embarked    0\n",
      "dtype: int64\n",
      "\n",
      "Sample of the preprocessed data:\n"
     ]
    },
    {
     "data": {
      "text/plain": [
       "   PassengerId  Survived  Pclass  \\\n",
       "0            1       0.0       3   \n",
       "1            2       1.0       1   \n",
       "2            3       1.0       3   \n",
       "3            4       1.0       1   \n",
       "4            5       0.0       3   \n",
       "\n",
       "                                                Name     Sex   Age  SibSp  \\\n",
       "0                            Braund, Mr. Owen Harris    male  22.0      1   \n",
       "1  Cumings, Mrs. John Bradley (Florence Briggs Th...  female  38.0      1   \n",
       "2                             Heikkinen, Miss. Laina  female  26.0      0   \n",
       "3       Futrelle, Mrs. Jacques Heath (Lily May Peel)  female  35.0      1   \n",
       "4                           Allen, Mr. William Henry    male  35.0      0   \n",
       "\n",
       "   Parch            Ticket     Fare Embarked  CabinAssigned Deck Title  \n",
       "0      0         A/5 21171   7.2500        S              0    U    Mr  \n",
       "1      0          PC 17599  71.2833        C              1    C   Mrs  \n",
       "2      0  STON/O2. 3101282   7.9250        S              0    U  Miss  \n",
       "3      0            113803  53.1000        S              1    C   Mrs  \n",
       "4      0            373450   8.0500        S              0    U    Mr  "
      ],
      "text/html": [
       "<div>\n",
       "<style scoped>\n",
       "    .dataframe tbody tr th:only-of-type {\n",
       "        vertical-align: middle;\n",
       "    }\n",
       "\n",
       "    .dataframe tbody tr th {\n",
       "        vertical-align: top;\n",
       "    }\n",
       "\n",
       "    .dataframe thead th {\n",
       "        text-align: right;\n",
       "    }\n",
       "</style>\n",
       "<table border=\"1\" class=\"dataframe\">\n",
       "  <thead>\n",
       "    <tr style=\"text-align: right;\">\n",
       "      <th></th>\n",
       "      <th>PassengerId</th>\n",
       "      <th>Survived</th>\n",
       "      <th>Pclass</th>\n",
       "      <th>Name</th>\n",
       "      <th>Sex</th>\n",
       "      <th>Age</th>\n",
       "      <th>SibSp</th>\n",
       "      <th>Parch</th>\n",
       "      <th>Ticket</th>\n",
       "      <th>Fare</th>\n",
       "      <th>Embarked</th>\n",
       "      <th>CabinAssigned</th>\n",
       "      <th>Deck</th>\n",
       "      <th>Title</th>\n",
       "    </tr>\n",
       "  </thead>\n",
       "  <tbody>\n",
       "    <tr>\n",
       "      <th>0</th>\n",
       "      <td>1</td>\n",
       "      <td>0.0</td>\n",
       "      <td>3</td>\n",
       "      <td>Braund, Mr. Owen Harris</td>\n",
       "      <td>male</td>\n",
       "      <td>22.0</td>\n",
       "      <td>1</td>\n",
       "      <td>0</td>\n",
       "      <td>A/5 21171</td>\n",
       "      <td>7.2500</td>\n",
       "      <td>S</td>\n",
       "      <td>0</td>\n",
       "      <td>U</td>\n",
       "      <td>Mr</td>\n",
       "    </tr>\n",
       "    <tr>\n",
       "      <th>1</th>\n",
       "      <td>2</td>\n",
       "      <td>1.0</td>\n",
       "      <td>1</td>\n",
       "      <td>Cumings, Mrs. John Bradley (Florence Briggs Th...</td>\n",
       "      <td>female</td>\n",
       "      <td>38.0</td>\n",
       "      <td>1</td>\n",
       "      <td>0</td>\n",
       "      <td>PC 17599</td>\n",
       "      <td>71.2833</td>\n",
       "      <td>C</td>\n",
       "      <td>1</td>\n",
       "      <td>C</td>\n",
       "      <td>Mrs</td>\n",
       "    </tr>\n",
       "    <tr>\n",
       "      <th>2</th>\n",
       "      <td>3</td>\n",
       "      <td>1.0</td>\n",
       "      <td>3</td>\n",
       "      <td>Heikkinen, Miss. Laina</td>\n",
       "      <td>female</td>\n",
       "      <td>26.0</td>\n",
       "      <td>0</td>\n",
       "      <td>0</td>\n",
       "      <td>STON/O2. 3101282</td>\n",
       "      <td>7.9250</td>\n",
       "      <td>S</td>\n",
       "      <td>0</td>\n",
       "      <td>U</td>\n",
       "      <td>Miss</td>\n",
       "    </tr>\n",
       "    <tr>\n",
       "      <th>3</th>\n",
       "      <td>4</td>\n",
       "      <td>1.0</td>\n",
       "      <td>1</td>\n",
       "      <td>Futrelle, Mrs. Jacques Heath (Lily May Peel)</td>\n",
       "      <td>female</td>\n",
       "      <td>35.0</td>\n",
       "      <td>1</td>\n",
       "      <td>0</td>\n",
       "      <td>113803</td>\n",
       "      <td>53.1000</td>\n",
       "      <td>S</td>\n",
       "      <td>1</td>\n",
       "      <td>C</td>\n",
       "      <td>Mrs</td>\n",
       "    </tr>\n",
       "    <tr>\n",
       "      <th>4</th>\n",
       "      <td>5</td>\n",
       "      <td>0.0</td>\n",
       "      <td>3</td>\n",
       "      <td>Allen, Mr. William Henry</td>\n",
       "      <td>male</td>\n",
       "      <td>35.0</td>\n",
       "      <td>0</td>\n",
       "      <td>0</td>\n",
       "      <td>373450</td>\n",
       "      <td>8.0500</td>\n",
       "      <td>S</td>\n",
       "      <td>0</td>\n",
       "      <td>U</td>\n",
       "      <td>Mr</td>\n",
       "    </tr>\n",
       "  </tbody>\n",
       "</table>\n",
       "</div>"
      ]
     },
     "execution_count": 16,
     "metadata": {},
     "output_type": "execute_result"
    }
   ],
   "execution_count": 16
  },
  {
   "metadata": {
    "ExecuteTime": {
     "end_time": "2025-08-27T09:13:35.799118Z",
     "start_time": "2025-08-27T09:13:35.784011Z"
    }
   },
   "cell_type": "code",
   "source": [
    "df.to_csv(os.path.join(output_dir, \"processed_data.csv\"), index=False)\n",
    "\n",
    "print(f\"Processed dataset shape: {df.shape}\")\n",
    "print(\"\\nProcessed datasets saved at\", output_dir)\n"
   ],
   "id": "2881aaf5cfb8cf5b",
   "outputs": [
    {
     "name": "stdout",
     "output_type": "stream",
     "text": [
      "Processed dataset shape: (1309, 14)\n",
      "\n",
      "Processed datasets saved at ..\\data\\processed\n"
     ]
    }
   ],
   "execution_count": 17
  },
  {
   "metadata": {},
   "cell_type": "code",
   "outputs": [],
   "execution_count": null,
   "source": "",
   "id": "3459ddc3e667da48"
  }
 ],
 "metadata": {
  "kernelspec": {
   "display_name": "Python 3",
   "language": "python",
   "name": "python3"
  },
  "language_info": {
   "codemirror_mode": {
    "name": "ipython",
    "version": 2
   },
   "file_extension": ".py",
   "mimetype": "text/x-python",
   "name": "python",
   "nbconvert_exporter": "python",
   "pygments_lexer": "ipython2",
   "version": "2.7.6"
  }
 },
 "nbformat": 4,
 "nbformat_minor": 5
}
